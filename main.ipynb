{
 "cells": [
  {
   "cell_type": "code",
   "execution_count": 33,
   "metadata": {},
   "outputs": [],
   "source": [
    "from src.dataset import BrainDataset, BrainData\n",
    "from src.dataset.maskable_list import MaskableList\n",
    "from src.utils import calculate_bin_edges, get_y\n",
    "from examples.get_transform import get_transform\n",
    "from nilearn import plotting\n",
    "import numpy as np\n",
    "from nilearn import datasets\n",
    "from matplotlib import pyplot as plt\n",
    "\n"
   ]
  },
  {
   "cell_type": "markdown",
   "metadata": {},
   "source": [
    "### Notebook for visualisations for dissertation\n"
   ]
  },
  {
   "cell_type": "code",
   "execution_count": 40,
   "metadata": {},
   "outputs": [],
   "source": [
    "craddock_atlas = datasets.fetch_atlas_craddock_2012(homogeneity=\"spatial\")\n",
    "craddock_atlas\n",
    "\n",
    "from matplotlib import pyplot as plt\n",
    "\n",
    "\n",
    "\n",
    "\n",
    "# Plot the probabilistic atlas with the larger figure\n",
    "display = plotting.plot_prob_atlas(craddock_atlas.maps,linewidths=1, display_mode='ortho',\n",
    "                                   draw_cross=False, annotate=False)\n",
    "\n",
    "# Save the figure with high DPI\n",
    "output_file = 'Images/CraddockAtlas.png'\n",
    "display.savefig(output_file, dpi=300)  # Increase DPI for higher resolution\n",
    "display.close()\n",
    "    \n",
    "\n",
    "    # You can adjust other parameters as needed\n",
    "\n",
    "\n"
   ]
  },
  {
   "cell_type": "code",
   "execution_count": null,
   "metadata": {},
   "outputs": [],
   "source": []
  },
  {
   "cell_type": "code",
   "execution_count": 7,
   "metadata": {},
   "outputs": [
    {
     "data": {
      "text/plain": [
       "'ABIDE_0_Adj.pt'"
      ]
     },
     "execution_count": 7,
     "metadata": {},
     "output_type": "execute_result"
    }
   ],
   "source": [
    "\n",
    "\n",
    "\n",
    "\n",
    "\n",
    "\n",
    "\n",
    "\n",
    "\n",
    "\n",
    "\n",
    "\n",
    "\n",
    "\n",
    "\n",
    "\n",
    "\n",
    "\n",
    "\n",
    "\n",
    "\n"
   ]
  },
  {
   "cell_type": "code",
   "execution_count": null,
   "metadata": {},
   "outputs": [],
   "source": []
  }
 ],
 "metadata": {
  "kernelspec": {
   "display_name": "venv",
   "language": "python",
   "name": "python3"
  },
  "language_info": {
   "codemirror_mode": {
    "name": "ipython",
    "version": 3
   },
   "file_extension": ".py",
   "mimetype": "text/x-python",
   "name": "python",
   "nbconvert_exporter": "python",
   "pygments_lexer": "ipython3",
   "version": "3.11.6"
  }
 },
 "nbformat": 4,
 "nbformat_minor": 2
}
